{
  "cells": [
    {
      "cell_type": "markdown",
      "metadata": {
        "id": "uXnfck1X5fzI"
      },
      "source": [
        "# Gyakori elemhalmazok előállítása\n",
        "\n",
        "\n",
        "\n",
        "----\n"
      ]
    },
    {
      "cell_type": "markdown",
      "metadata": {
        "id": "pfChBnUs5fzJ"
      },
      "source": [
        "A gyakori elemhalmazok keresése elvileg az elemhalmazháló bejárásaként is tekinthető. A bejárás komplexitása exponenciális."
      ]
    },
    {
      "cell_type": "markdown",
      "metadata": {
        "id": "UjPLDJjv5fzK"
      },
      "source": [
        "## Apriori-elv\n",
        "\n",
        "\n",
        "Ha egy elemhalmaz gyakori, akkor ezen elemhalmaz összes részhalmaza is gyakori.\n",
        "Az apriori-elv alkalmazásával a részhalmazok exponenciális keresési tere csökkenthető. "
      ]
    },
    {
      "cell_type": "markdown",
      "metadata": {
        "id": "uQTugELQ5fzL"
      },
      "source": [
        "## Apriori algoritmus\n",
        "\n",
        "\n",
        "A laborgyakorlatban az apriori algoritmus Python [implementációját](https://pypi.org/project/apyori/) próbáljuk ki. \n",
        "\n",
        "Az Apriori algoritmus a legismertebb gyakori elemhalmaz keresésére alkalmas módszer. Szélességi bejárást valósít meg: az üres halmazból kiindulva szintenként halad előre a nagyobb méretű gyakori elemhalmazok meghatározásához. Minden iterációban az eggyel nagyobb méretű elemhalmazokkal foglalkozik, így az iterációk száma legfeljebb eggyel több, mint a legnagyobb gyakori elemhalmaz mérete."
      ]
    },
    {
      "cell_type": "code",
      "execution_count": null,
      "metadata": {
        "colab": {
          "base_uri": "https://localhost:8080/"
        },
        "id": "rWoO-2cQ5oHX",
        "outputId": "07be50ef-8b2f-407d-b7ae-d9248ac5a8e8"
      },
      "outputs": [],
      "source": [
        "!python -m pip install apyori --upgrade --user"
      ]
    },
    {
      "cell_type": "markdown",
      "metadata": {
        "id": "oOwbVxzU5fzL"
      },
      "source": [
        "Importáljuk a könyvtárakat (az apriori az apyori-ból is). "
      ]
    },
    {
      "cell_type": "code",
      "execution_count": null,
      "metadata": {
        "id": "UDZBmMtj5fzM"
      },
      "outputs": [],
      "source": [
        "import numpy as np  \n",
        "import matplotlib.pyplot as plt  \n",
        "import pandas as pd  \n",
        "from apyori import apriori "
      ]
    },
    {
      "cell_type": "markdown",
      "metadata": {
        "id": "Xn1eTgD-5fzQ"
      },
      "source": [
        "Olvassuk be a *store_data_apriori.csv* állományt."
      ]
    },
    {
      "cell_type": "code",
      "execution_count": null,
      "metadata": {
        "id": "r7ROUpX95fzR"
      },
      "outputs": [],
      "source": [
        "store_data = pd.read_csv('./store_data_apriori.csv') "
      ]
    },
    {
      "cell_type": "markdown",
      "metadata": {
        "id": "R3u3gVtd5fzT"
      },
      "source": [
        "Hány tranzakciót (azaz sort) tartalmaz a fájl?"
      ]
    },
    {
      "cell_type": "code",
      "execution_count": null,
      "metadata": {
        "id": "Qaqv-9ub5fzU"
      },
      "outputs": [],
      "source": []
    },
    {
      "cell_type": "markdown",
      "metadata": {
        "id": "_pLjsPZK5fzW"
      },
      "source": [
        "Melyik a leghosszabb tranzakció (hány elemű)?"
      ]
    },
    {
      "cell_type": "code",
      "execution_count": null,
      "metadata": {
        "id": "SOcDyD4H5fzX"
      },
      "outputs": [],
      "source": []
    },
    {
      "cell_type": "markdown",
      "metadata": {
        "id": "6zzQKpW_5fzb"
      },
      "source": [
        "Mi az átlag tranzakció hossza (általában hány terméket vásárolnak)?"
      ]
    },
    {
      "cell_type": "code",
      "execution_count": null,
      "metadata": {
        "id": "daRNQ7CG5fzb"
      },
      "outputs": [],
      "source": []
    },
    {
      "cell_type": "markdown",
      "metadata": {
        "id": "RC0XrOYe5fze"
      },
      "source": [
        "Hány különböző termék került eladásra?"
      ]
    },
    {
      "cell_type": "code",
      "execution_count": null,
      "metadata": {
        "id": "0mt5WZ7j5fzf"
      },
      "outputs": [],
      "source": []
    },
    {
      "cell_type": "markdown",
      "metadata": {
        "id": "zm8OEm8d5fzk"
      },
      "source": [
        "Melyik terméket hányszor adták el?"
      ]
    },
    {
      "cell_type": "code",
      "execution_count": null,
      "metadata": {
        "id": "3k1mDpWu5fzl"
      },
      "outputs": [],
      "source": []
    },
    {
      "cell_type": "markdown",
      "metadata": {
        "id": "X5Pxo4dl5fzn"
      },
      "source": [
        "Átlagban egy terméket hányszor adtak el?"
      ]
    },
    {
      "cell_type": "code",
      "execution_count": null,
      "metadata": {
        "id": "3YqAptbV5fzo"
      },
      "outputs": [],
      "source": []
    },
    {
      "cell_type": "markdown",
      "metadata": {
        "id": "Y8ne88hJ5fzq"
      },
      "source": [
        "Ábrázoljuk a termékeladások eloszlását (hisztogram)."
      ]
    },
    {
      "cell_type": "code",
      "execution_count": null,
      "metadata": {
        "id": "RL8Sm36p5fzq"
      },
      "outputs": [],
      "source": []
    },
    {
      "cell_type": "markdown",
      "metadata": {
        "id": "iA3Ldo3a5fzs"
      },
      "source": [
        "Az  apriori algoritmus bemenete egy  listákat tartalamazó lista. Alakítsuk át a dataframet \"list of lists\"-re."
      ]
    },
    {
      "cell_type": "code",
      "execution_count": null,
      "metadata": {
        "id": "otG-XziA5fzt"
      },
      "outputs": [],
      "source": [
        "records = []  \n"
      ]
    },
    {
      "cell_type": "code",
      "execution_count": null,
      "metadata": {
        "id": "J75azeMK5fzw"
      },
      "outputs": [],
      "source": [
        "print(records)"
      ]
    },
    {
      "cell_type": "markdown",
      "metadata": {
        "id": "rKFQdDVU5fzz"
      },
      "source": [
        "Válasszuk meg a `min_support`, `min_confidence`, `min_lift` paramétereket az Apriori algoritmusnak és számoljuk ki a gyakori elemhalmazokat."
      ]
    },
    {
      "cell_type": "code",
      "execution_count": null,
      "metadata": {
        "id": "iIKL6LvY5fz0"
      },
      "outputs": [],
      "source": []
    },
    {
      "cell_type": "markdown",
      "metadata": {},
      "source": [
        "Hozzunk létre egy saját `min_length` paramétert is, és szűrjük ki azokat az elemhalmazokat, amelyek nem felelnek meg ennek a minimális hosszuságnak. A kimenetben szereplő elemhalmazok legalább `min_length` hosszúnak kell lenniük."
      ]
    },
    {
      "cell_type": "code",
      "execution_count": null,
      "metadata": {},
      "outputs": [],
      "source": []
    },
    {
      "cell_type": "markdown",
      "metadata": {
        "id": "_fD065ke5fz2"
      },
      "source": [
        "Hogyan változik az elemhalmazok száma a `min_support`, `min_confidence`, `min_lift`, illetve a saját `min_length` paraméterek változtatásával (írásbeli magyarázat, nem kód)?"
      ]
    },
    {
      "cell_type": "markdown",
      "metadata": {},
      "source": []
    }
  ],
  "metadata": {
    "colab": {
      "collapsed_sections": [],
      "name": "apriori.ipynb",
      "provenance": []
    },
    "hide_input": false,
    "kernelspec": {
      "display_name": "Python 3",
      "language": "python",
      "name": "python3"
    },
    "language_info": {
      "codemirror_mode": {
        "name": "ipython",
        "version": 3
      },
      "file_extension": ".py",
      "mimetype": "text/x-python",
      "name": "python",
      "nbconvert_exporter": "python",
      "pygments_lexer": "ipython3",
      "version": "3.13.2"
    }
  },
  "nbformat": 4,
  "nbformat_minor": 0
}
